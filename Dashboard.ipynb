{
 "cells": [
  {
   "cell_type": "code",
   "execution_count": 1,
   "id": "5a2cb61f",
   "metadata": {},
   "outputs": [],
   "source": [
    "import pandas as pd\n",
    "import pyarrow as pa\n",
    "import pyarrow.parquet as pq"
   ]
  },
  {
   "cell_type": "code",
   "execution_count": 3,
   "id": "a715143c",
   "metadata": {},
   "outputs": [],
   "source": [
    "df=pd.read_csv('dashfile.csv')"
   ]
  },
  {
   "cell_type": "code",
   "execution_count": 4,
   "id": "55fd6f79",
   "metadata": {},
   "outputs": [],
   "source": [
    "pq.write_table(pa.Table.from_pandas(df), 'dashfile.xlsx')"
   ]
  },
  {
   "cell_type": "code",
   "execution_count": 5,
   "id": "316021f6",
   "metadata": {},
   "outputs": [],
   "source": [
    "df=pd.read_parquet('dashfile.parquet')"
   ]
  },
  {
   "cell_type": "code",
   "execution_count": null,
   "id": "d66c5693",
   "metadata": {},
   "outputs": [],
   "source": []
  }
 ],
 "metadata": {
  "kernelspec": {
   "display_name": "Python 3 (ipykernel)",
   "language": "python",
   "name": "python3"
  },
  "language_info": {
   "codemirror_mode": {
    "name": "ipython",
    "version": 3
   },
   "file_extension": ".py",
   "mimetype": "text/x-python",
   "name": "python",
   "nbconvert_exporter": "python",
   "pygments_lexer": "ipython3",
   "version": "3.9.13"
  }
 },
 "nbformat": 4,
 "nbformat_minor": 5
}
